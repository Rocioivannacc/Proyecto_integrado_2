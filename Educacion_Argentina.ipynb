{
  "nbformat": 4,
  "nbformat_minor": 0,
  "metadata": {
    "colab": {
      "provenance": [],
      "authorship_tag": "ABX9TyN9kYsJ+MQCD3ZTvyXwgyIq",
      "include_colab_link": true
    },
    "kernelspec": {
      "name": "python3",
      "display_name": "Python 3"
    },
    "language_info": {
      "name": "python"
    }
  },
  "cells": [
    {
      "cell_type": "markdown",
      "metadata": {
        "id": "view-in-github",
        "colab_type": "text"
      },
      "source": [
        "<a href=\"https://colab.research.google.com/github/Rocioivannacc/Proyecto_integrado_2/blob/main/Educacion_Argentina.ipynb\" target=\"_parent\"><img src=\"https://colab.research.google.com/assets/colab-badge.svg\" alt=\"Open In Colab\"/></a>"
      ]
    },
    {
      "cell_type": "code",
      "execution_count": 16,
      "metadata": {
        "colab": {
          "base_uri": "https://localhost:8080/"
        },
        "id": "qCQko_XWpbRX",
        "outputId": "171ccc9e-765b-4e28-a362-57ce740e9075"
      },
      "outputs": [
        {
          "output_type": "stream",
          "name": "stdout",
          "text": [
            "    Apellido Nombre   Nro_DNI Materia Escolar  Nota 1er Trimestre  \\\n",
            "0      Gómez   Luis  91986803        Historia                  10   \n",
            "1  Rodríguez  Laura  38041004        Historia                   9   \n",
            "2   González   José  45415036          Física                   7   \n",
            "3      Gómez  María  25505644          Inglés                   8   \n",
            "4  Rodríguez  Elena  35547082            Arte                   1   \n",
            "\n",
            "   Nota 2do Trimestre  Nota 3er Trimestre  Faltas a clases  \n",
            "0                   9                   3                5  \n",
            "1                   3                   4               19  \n",
            "2                   1                   7               12  \n",
            "3                   2                   9                7  \n",
            "4                   8                   5                7  \n"
          ]
        }
      ],
      "source": [
        "# prompt: armar un dataframe de al menos 100 filas con datos random con apellido y nombre, nro_dni, materias de educacion nivel secundario de la argentina que contenga las siguientes columnas: materia escolar, nota 1er Trimestre, nota 2do Trimestre, nota 3er Trimestre, Faltas a clases.\n",
        "\n",
        "import pandas as pd\n",
        "import numpy as np\n",
        "import random\n",
        "\n",
        "# Lista de materias de nivel secundario\n",
        "materias = ['Matemática', 'Lengua y Literatura', 'Historia', 'Geografía', 'Ciencias Naturales', 'Física', 'Química', 'Biología', 'Educación Física', 'Inglés', 'Ciudadanía', 'Arte', 'Música']\n",
        "\n",
        "# Lista de apellidos comunes\n",
        "apellidos = ['Gómez', 'Rodríguez', 'Pérez', 'García', 'López', 'Martínez', 'González', 'Díaz', 'Sánchez', 'Romero']\n",
        "\n",
        "# Lista de nombres comunes\n",
        "nombres = ['Juan', 'María', 'Pedro', 'Ana', 'Luis', 'Laura', 'Carlos', 'Sofía', 'José', 'Elena']\n",
        "\n",
        "# Crear una lista vacía para almacenar los datos del DataFrame\n",
        "data = []\n",
        "\n",
        "# Generar 100 filas de datos aleatorios\n",
        "for i in range(100):\n",
        "  # Generar datos aleatorios para cada columna\n",
        "  apellido = random.choice(apellidos)\n",
        "  nombre = random.choice(nombres)\n",
        "  dni = random.randint(10000000, 99999999)\n",
        "  materia = random.choice(materias)\n",
        "  nota1 = random.randint(1, 10)\n",
        "  nota2 = random.randint(1, 10)\n",
        "  nota3 = random.randint(1, 10)\n",
        "  faltas = random.randint(0, 20)\n",
        "\n",
        "  # Agregar los datos a la lista\n",
        "  data.append([apellido, nombre, dni, materia, nota1, nota2, nota3, faltas])\n",
        "\n",
        "# Crear el DataFrame\n",
        "df = pd.DataFrame(data, columns=['Apellido', 'Nombre', 'Nro_DNI', 'Materia Escolar', 'Nota 1er Trimestre', 'Nota 2do Trimestre', 'Nota 3er Trimestre', 'Faltas a clases'])\n",
        "\n",
        "# Imprimir las primeras filas del DataFrame\n",
        "print(df.head())"
      ]
    },
    {
      "cell_type": "code",
      "source": [
        "# prompt: Armar grafico de barras con Promedio general de cada materia, ordenados de mayor a menor, agregar las faltas como valor constrastable en dos ejes. Agregar las leyendas que ayuden a la interpretación.\n",
        "\n",
        "import pandas as pd\n",
        "import matplotlib.pyplot as plt\n",
        "\n",
        "# ... (Your existing code to create the DataFrame 'df')\n",
        "\n",
        "# Calculate the average grade for each subject\n",
        "average_grades = df.groupby('Materia Escolar')[['Nota 1er Trimestre', 'Nota 2do Trimestre', 'Nota 3er Trimestre']].mean().mean(axis=1)\n",
        "\n",
        "# Calculate the total absences for each subject\n",
        "total_absences = df.groupby('Materia Escolar')['Faltas a clases'].sum()\n",
        "\n",
        "# Sort subjects by average grade in descending order\n",
        "average_grades_sorted = average_grades.sort_values(ascending=False)\n",
        "total_absences_sorted = total_absences.loc[average_grades_sorted.index]\n",
        "\n",
        "\n",
        "# Create the bar plot\n",
        "fig, ax1 = plt.subplots(figsize=(12, 6))\n",
        "\n",
        "ax1.bar(average_grades_sorted.index, average_grades_sorted.values, color='skyblue', label='Promedio General')\n",
        "ax1.set_xlabel('Materia Escolar')\n",
        "ax1.set_ylabel('Promedio General', color='skyblue')\n",
        "ax1.tick_params(axis='y', labelcolor='skyblue')\n",
        "ax1.set_title('Promedio General de Materias y Faltas Totales')\n",
        "\n",
        "ax2 = ax1.twinx()  # Create a second y-axis\n",
        "ax2.plot(total_absences_sorted.index, total_absences_sorted.values, color='red', marker='o', label='Faltas Totales')\n",
        "ax2.set_ylabel('Faltas Totales', color='red')\n",
        "ax2.tick_params(axis='y', labelcolor='red')\n",
        "\n",
        "# Rotate x-axis labels for better readability\n",
        "plt.setp(ax1.get_xticklabels(), rotation=45, ha=\"right\", rotation_mode=\"anchor\")\n",
        "\n",
        "# Add legends\n",
        "lines, labels = ax1.get_legend_handles_labels()\n",
        "lines2, labels2 = ax2.get_legend_handles_labels()\n",
        "ax2.legend(lines + lines2, labels + labels2, loc='upper right')\n",
        "\n",
        "\n",
        "plt.tight_layout()\n",
        "plt.show()"
      ],
      "metadata": {
        "id": "gsGTFlzztBGz"
      },
      "execution_count": null,
      "outputs": []
    },
    {
      "cell_type": "code",
      "source": [
        "df.to_csv(\"datos_alumnos.csv\", index=False)"
      ],
      "metadata": {
        "id": "aw9LW0ott4aA"
      },
      "execution_count": 17,
      "outputs": []
    }
  ]
}